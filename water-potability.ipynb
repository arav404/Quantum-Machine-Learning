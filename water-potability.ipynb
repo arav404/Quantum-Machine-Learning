{
 "cells": [
  {
   "cell_type": "code",
   "execution_count": 1,
   "id": "43d4f4a5",
   "metadata": {
    "execution": {
     "iopub.execute_input": "2023-12-17T09:17:36.071309Z",
     "iopub.status.busy": "2023-12-17T09:17:36.070944Z",
     "iopub.status.idle": "2023-12-17T09:17:38.241637Z",
     "shell.execute_reply": "2023-12-17T09:17:38.240466Z"
    },
    "papermill": {
     "duration": 2.185886,
     "end_time": "2023-12-17T09:17:38.243968",
     "exception": false,
     "start_time": "2023-12-17T09:17:36.058082",
     "status": "completed"
    },
    "tags": []
   },
   "outputs": [
    {
     "ename": "ModuleNotFoundError",
     "evalue": "No module named 'seaborn'",
     "output_type": "error",
     "traceback": [
      "\u001b[1;31m---------------------------------------------------------------------------\u001b[0m",
      "\u001b[1;31mModuleNotFoundError\u001b[0m                       Traceback (most recent call last)",
      "Cell \u001b[1;32mIn[1], line 3\u001b[0m\n\u001b[0;32m      1\u001b[0m \u001b[38;5;28;01mimport\u001b[39;00m \u001b[38;5;21;01mnumpy\u001b[39;00m \u001b[38;5;28;01mas\u001b[39;00m \u001b[38;5;21;01mnp\u001b[39;00m\n\u001b[0;32m      2\u001b[0m \u001b[38;5;28;01mimport\u001b[39;00m \u001b[38;5;21;01mpandas\u001b[39;00m \u001b[38;5;28;01mas\u001b[39;00m \u001b[38;5;21;01mpd\u001b[39;00m\n\u001b[1;32m----> 3\u001b[0m \u001b[38;5;28;01mimport\u001b[39;00m \u001b[38;5;21;01mseaborn\u001b[39;00m \u001b[38;5;28;01mas\u001b[39;00m \u001b[38;5;21;01msns\u001b[39;00m\n\u001b[0;32m      4\u001b[0m \u001b[38;5;28;01mimport\u001b[39;00m \u001b[38;5;21;01mmatplotlib\u001b[39;00m\u001b[38;5;21;01m.\u001b[39;00m\u001b[38;5;21;01mpyplot\u001b[39;00m \u001b[38;5;28;01mas\u001b[39;00m \u001b[38;5;21;01mplt\u001b[39;00m\n\u001b[0;32m      5\u001b[0m \u001b[38;5;28;01mimport\u001b[39;00m \u001b[38;5;21;01mtermcolor\u001b[39;00m\n",
      "\u001b[1;31mModuleNotFoundError\u001b[0m: No module named 'seaborn'"
     ]
    }
   ],
   "source": [
    "import numpy as np\n",
    "import pandas as pd\n",
    "import seaborn as sns\n",
    "import matplotlib.pyplot as plt\n",
    "import termcolor\n",
    "from termcolor import colored\n",
    "import warnings\n",
    "\n",
    "from sklearn.preprocessing import MinMaxScaler\n",
    "from sklearn import metrics\n",
    "from sklearn.model_selection import train_test_split, GridSearchCV\n",
    "from sklearn.linear_model import LogisticRegression\n",
    "from sklearn.ensemble import RandomForestClassifier\n",
    "from sklearn.neural_network import MLPClassifier\n",
    "from sklearn.neighbors import KNeighborsClassifier\n",
    "print(colored('\\nAll libraries imported succesfully', 'green'))"
   ]
  },
  {
   "cell_type": "code",
   "execution_count": null,
   "id": "92cdfac5",
   "metadata": {
    "execution": {
     "iopub.execute_input": "2023-12-17T09:17:38.292970Z",
     "iopub.status.busy": "2023-12-17T09:17:38.292506Z",
     "iopub.status.idle": "2023-12-17T09:17:38.298310Z",
     "shell.execute_reply": "2023-12-17T09:17:38.297216Z"
    },
    "papermill": {
     "duration": 0.021219,
     "end_time": "2023-12-17T09:17:38.300826",
     "exception": false,
     "start_time": "2023-12-17T09:17:38.279607",
     "status": "completed"
    },
    "tags": []
   },
   "outputs": [],
   "source": [
    "pd.options.mode.copy_on_write = True # Allow re-write on variable\n",
    "sns.set_style('darkgrid') # Seaborn style\n",
    "warnings.filterwarnings('ignore') # Ignore warnings\n",
    "pd.set_option('display.max_columns', None) # Setting this option will print all collumns of a dataframe\n",
    "pd.set_option('display.max_colwidth', None) # Setting this option will print all of the data in a feature"
   ]
  },
  {
   "cell_type": "code",
   "execution_count": null,
   "id": "b6c6c7df",
   "metadata": {
    "execution": {
     "iopub.execute_input": "2023-12-17T09:17:38.326194Z",
     "iopub.status.busy": "2023-12-17T09:17:38.325571Z",
     "iopub.status.idle": "2023-12-17T09:17:38.329723Z",
     "shell.execute_reply": "2023-12-17T09:17:38.329127Z"
    },
    "papermill": {
     "duration": 0.019129,
     "end_time": "2023-12-17T09:17:38.331769",
     "exception": false,
     "start_time": "2023-12-17T09:17:38.312640",
     "status": "completed"
    },
    "tags": []
   },
   "outputs": [],
   "source": [
    "print(colored('\\nAll libraries Configed succesfully.', 'green'))"
   ]
  },
  {
   "cell_type": "code",
   "execution_count": null,
   "id": "2c9392ac",
   "metadata": {
    "execution": {
     "iopub.execute_input": "2023-12-17T09:17:38.455792Z",
     "iopub.status.busy": "2023-12-17T09:17:38.454564Z",
     "iopub.status.idle": "2023-12-17T09:17:38.508403Z",
     "shell.execute_reply": "2023-12-17T09:17:38.507451Z"
    },
    "papermill": {
     "duration": 0.069391,
     "end_time": "2023-12-17T09:17:38.510398",
     "exception": false,
     "start_time": "2023-12-17T09:17:38.441007",
     "status": "completed"
    },
    "tags": []
   },
   "outputs": [],
   "source": [
    "# import data with pandas\n",
    "data = pd.read_csv('water_potability.csv')\n",
    "data.head()"
   ]
  },
  {
   "cell_type": "code",
   "execution_count": null,
   "id": "ce5231a2",
   "metadata": {
    "execution": {
     "iopub.execute_input": "2023-12-17T09:17:38.559256Z",
     "iopub.status.busy": "2023-12-17T09:17:38.558706Z",
     "iopub.status.idle": "2023-12-17T09:17:38.587388Z",
     "shell.execute_reply": "2023-12-17T09:17:38.586492Z"
    },
    "papermill": {
     "duration": 0.043715,
     "end_time": "2023-12-17T09:17:38.589867",
     "exception": false,
     "start_time": "2023-12-17T09:17:38.546152",
     "status": "completed"
    },
    "tags": []
   },
   "outputs": [],
   "source": [
    "data.info()"
   ]
  },
  {
   "cell_type": "code",
   "execution_count": null,
   "id": "0b7f2955",
   "metadata": {
    "execution": {
     "iopub.execute_input": "2023-12-17T09:17:38.616383Z",
     "iopub.status.busy": "2023-12-17T09:17:38.615853Z",
     "iopub.status.idle": "2023-12-17T09:17:38.728686Z",
     "shell.execute_reply": "2023-12-17T09:17:38.727510Z"
    },
    "papermill": {
     "duration": 0.12891,
     "end_time": "2023-12-17T09:17:38.731105",
     "exception": false,
     "start_time": "2023-12-17T09:17:38.602195",
     "status": "completed"
    },
    "tags": []
   },
   "outputs": [],
   "source": [
    "data.describe().loc[['min', '50%', 'mean', 'max', 'std']].T.style.background_gradient(axis=1)"
   ]
  },
  {
   "cell_type": "code",
   "execution_count": null,
   "id": "2c0ac236",
   "metadata": {
    "execution": {
     "iopub.execute_input": "2023-12-17T09:17:38.758134Z",
     "iopub.status.busy": "2023-12-17T09:17:38.757607Z",
     "iopub.status.idle": "2023-12-17T09:17:38.764048Z",
     "shell.execute_reply": "2023-12-17T09:17:38.762459Z"
    },
    "papermill": {
     "duration": 0.022049,
     "end_time": "2023-12-17T09:17:38.765791",
     "exception": false,
     "start_time": "2023-12-17T09:17:38.743742",
     "status": "completed"
    },
    "tags": []
   },
   "outputs": [],
   "source": [
    "columns_name = data.columns\n",
    "for index, col_name in enumerate(columns_name):\n",
    "    print(index, col_name)"
   ]
  },
  {
   "cell_type": "code",
   "execution_count": null,
   "id": "012c580f",
   "metadata": {
    "execution": {
     "iopub.execute_input": "2023-12-17T09:17:38.886796Z",
     "iopub.status.busy": "2023-12-17T09:17:38.886259Z",
     "iopub.status.idle": "2023-12-17T09:17:40.617164Z",
     "shell.execute_reply": "2023-12-17T09:17:40.616040Z"
    },
    "papermill": {
     "duration": 1.746299,
     "end_time": "2023-12-17T09:17:40.619258",
     "exception": false,
     "start_time": "2023-12-17T09:17:38.872959",
     "status": "completed"
    },
    "tags": []
   },
   "outputs": [],
   "source": [
    "fig, ax = plt.subplots(9, 1, figsize=(10, 20))\n",
    "fig.subplots_adjust(hspace=0.75)\n",
    "for i in range(9) :\n",
    "    # Ax\n",
    "    sns.boxplot(x=columns_name[i], data=data, ax=ax[i])"
   ]
  },
  {
   "cell_type": "code",
   "execution_count": null,
   "id": "bac55a4f",
   "metadata": {
    "execution": {
     "iopub.execute_input": "2023-12-17T09:17:40.648065Z",
     "iopub.status.busy": "2023-12-17T09:17:40.647387Z",
     "iopub.status.idle": "2023-12-17T09:17:40.792500Z",
     "shell.execute_reply": "2023-12-17T09:17:40.791692Z"
    },
    "papermill": {
     "duration": 0.161608,
     "end_time": "2023-12-17T09:17:40.794458",
     "exception": false,
     "start_time": "2023-12-17T09:17:40.632850",
     "status": "completed"
    },
    "tags": []
   },
   "outputs": [],
   "source": [
    "tar = data['Potability'].value_counts()\n",
    "print(tar)\n",
    "\n",
    "plt.pie(tar, labels=[0, 1], explode=[0, 0.01], autopct='%.f%%', shadow=True)\n",
    "plt.legend()\n",
    "plt.show()"
   ]
  },
  {
   "cell_type": "code",
   "execution_count": null,
   "id": "3c224d1e",
   "metadata": {
    "execution": {
     "iopub.execute_input": "2023-12-17T09:17:40.895996Z",
     "iopub.status.busy": "2023-12-17T09:17:40.895640Z",
     "iopub.status.idle": "2023-12-17T09:17:41.336886Z",
     "shell.execute_reply": "2023-12-17T09:17:41.336063Z"
    },
    "papermill": {
     "duration": 0.457813,
     "end_time": "2023-12-17T09:17:41.338449",
     "exception": false,
     "start_time": "2023-12-17T09:17:40.880636",
     "status": "completed"
    },
    "tags": []
   },
   "outputs": [],
   "source": [
    "corr = data.corr()\n",
    "plt.figure(figsize=(10, 5))\n",
    "sns.heatmap(corr, annot=True, fmt='.2f', linewidths=0.5, linecolor='white', mask=np.triu(corr), cmap='Blues')\n",
    "plt.show()"
   ]
  },
  {
   "cell_type": "code",
   "execution_count": null,
   "id": "f545aa24",
   "metadata": {
    "execution": {
     "iopub.execute_input": "2023-12-17T09:17:41.370893Z",
     "iopub.status.busy": "2023-12-17T09:17:41.370363Z",
     "iopub.status.idle": "2023-12-17T09:18:01.425172Z",
     "shell.execute_reply": "2023-12-17T09:18:01.424184Z"
    },
    "papermill": {
     "duration": 20.082086,
     "end_time": "2023-12-17T09:18:01.435784",
     "exception": false,
     "start_time": "2023-12-17T09:17:41.353698",
     "status": "completed"
    },
    "tags": []
   },
   "outputs": [],
   "source": [
    "sns.pairplot(data, hue='Potability', corner=True, palette='Blues')\n",
    "plt.show()"
   ]
  },
  {
   "cell_type": "code",
   "execution_count": null,
   "id": "6cf0082a",
   "metadata": {
    "execution": {
     "iopub.execute_input": "2023-12-17T09:18:01.738312Z",
     "iopub.status.busy": "2023-12-17T09:18:01.737957Z",
     "iopub.status.idle": "2023-12-17T09:18:01.744861Z",
     "shell.execute_reply": "2023-12-17T09:18:01.743929Z"
    },
    "papermill": {
     "duration": 0.047303,
     "end_time": "2023-12-17T09:18:01.746484",
     "exception": false,
     "start_time": "2023-12-17T09:18:01.699181",
     "status": "completed"
    },
    "tags": []
   },
   "outputs": [],
   "source": [
    "data.isna().sum()"
   ]
  },
  {
   "cell_type": "code",
   "execution_count": null,
   "id": "b9cc5e18",
   "metadata": {
    "execution": {
     "iopub.execute_input": "2023-12-17T09:18:01.822909Z",
     "iopub.status.busy": "2023-12-17T09:18:01.822556Z",
     "iopub.status.idle": "2023-12-17T09:18:01.827621Z",
     "shell.execute_reply": "2023-12-17T09:18:01.826709Z"
    },
    "papermill": {
     "duration": 0.045878,
     "end_time": "2023-12-17T09:18:01.829359",
     "exception": false,
     "start_time": "2023-12-17T09:18:01.783481",
     "status": "completed"
    },
    "tags": []
   },
   "outputs": [],
   "source": [
    "print(\"Number of all samples : \", len(data))"
   ]
  },
  {
   "cell_type": "code",
   "execution_count": null,
   "id": "c559092b",
   "metadata": {
    "execution": {
     "iopub.execute_input": "2023-12-17T09:18:01.907606Z",
     "iopub.status.busy": "2023-12-17T09:18:01.907041Z",
     "iopub.status.idle": "2023-12-17T09:18:01.912968Z",
     "shell.execute_reply": "2023-12-17T09:18:01.912368Z"
    },
    "papermill": {
     "duration": 0.047542,
     "end_time": "2023-12-17T09:18:01.914897",
     "exception": false,
     "start_time": "2023-12-17T09:18:01.867355",
     "status": "completed"
    },
    "tags": []
   },
   "outputs": [],
   "source": [
    "print('Percentage(%) of nulls for each columns : \\n')\n",
    "print((data.isna().sum()/len(data))*100)"
   ]
  },
  {
   "cell_type": "code",
   "execution_count": null,
   "id": "9fe8179a",
   "metadata": {
    "execution": {
     "iopub.execute_input": "2023-12-17T09:18:02.071254Z",
     "iopub.status.busy": "2023-12-17T09:18:02.070237Z",
     "iopub.status.idle": "2023-12-17T09:18:02.080317Z",
     "shell.execute_reply": "2023-12-17T09:18:02.079487Z"
    },
    "papermill": {
     "duration": 0.052892,
     "end_time": "2023-12-17T09:18:02.082695",
     "exception": false,
     "start_time": "2023-12-17T09:18:02.029803",
     "status": "completed"
    },
    "tags": []
   },
   "outputs": [],
   "source": [
    "print(\"For Potability=1\")\n",
    "data[data.Potability==1][['ph', 'Sulfate', 'Trihalomethanes']].median()"
   ]
  },
  {
   "cell_type": "code",
   "execution_count": null,
   "id": "3eeb5244",
   "metadata": {
    "execution": {
     "iopub.execute_input": "2023-12-17T09:18:02.162877Z",
     "iopub.status.busy": "2023-12-17T09:18:02.162259Z",
     "iopub.status.idle": "2023-12-17T09:18:02.171807Z",
     "shell.execute_reply": "2023-12-17T09:18:02.170988Z"
    },
    "papermill": {
     "duration": 0.052896,
     "end_time": "2023-12-17T09:18:02.174054",
     "exception": false,
     "start_time": "2023-12-17T09:18:02.121158",
     "status": "completed"
    },
    "tags": []
   },
   "outputs": [],
   "source": [
    "print(\"For Potability=1\")\n",
    "data[data.Potability==0][['ph', 'Sulfate', 'Trihalomethanes']].median()"
   ]
  },
  {
   "cell_type": "markdown",
   "id": "11089b83",
   "metadata": {
    "papermill": {
     "duration": 0.038072,
     "end_time": "2023-12-17T09:18:02.252504",
     "exception": false,
     "start_time": "2023-12-17T09:18:02.214432",
     "status": "completed"
    },
    "tags": []
   },
   "source": [
    "<div style=\"font-size:120%; font-weight:500; background-color:#edfeff\"><p></p>➡️ For both Potability=1 and Potability=0, medians are approximately equall.</p>\n",
    "<p>➡️Replace them all with their meadians</p>\n",
    "</div>"
   ]
  },
  {
   "cell_type": "code",
   "execution_count": null,
   "id": "d43cdf9e",
   "metadata": {
    "execution": {
     "iopub.execute_input": "2023-12-17T09:18:02.331063Z",
     "iopub.status.busy": "2023-12-17T09:18:02.330446Z",
     "iopub.status.idle": "2023-12-17T09:18:02.338080Z",
     "shell.execute_reply": "2023-12-17T09:18:02.337143Z"
    },
    "papermill": {
     "duration": 0.049319,
     "end_time": "2023-12-17T09:18:02.340112",
     "exception": false,
     "start_time": "2023-12-17T09:18:02.290793",
     "status": "completed"
    },
    "tags": []
   },
   "outputs": [],
   "source": [
    "data['ph'] = data['ph'].fillna(value=data['ph'].median())\n",
    "data['Sulfate'] = data['Sulfate'].fillna(value=data['Sulfate'].median())\n",
    "data['Trihalomethanes'] = data['Trihalomethanes'].fillna(value=data['Trihalomethanes'].median())"
   ]
  },
  {
   "cell_type": "code",
   "execution_count": null,
   "id": "5aba51ec",
   "metadata": {
    "execution": {
     "iopub.execute_input": "2023-12-17T09:18:02.418217Z",
     "iopub.status.busy": "2023-12-17T09:18:02.417838Z",
     "iopub.status.idle": "2023-12-17T09:18:02.425772Z",
     "shell.execute_reply": "2023-12-17T09:18:02.425037Z"
    },
    "papermill": {
     "duration": 0.049055,
     "end_time": "2023-12-17T09:18:02.427512",
     "exception": false,
     "start_time": "2023-12-17T09:18:02.378457",
     "status": "completed"
    },
    "tags": []
   },
   "outputs": [],
   "source": [
    "data.isna().sum().sum()"
   ]
  },
  {
   "cell_type": "markdown",
   "id": "ef7c59b2",
   "metadata": {
    "papermill": {
     "duration": 0.038102,
     "end_time": "2023-12-17T09:18:02.656871",
     "exception": false,
     "start_time": "2023-12-17T09:18:02.618769",
     "status": "completed"
    },
    "tags": []
   },
   "source": [
    "<div style=\"font-size:120%; font-weight:500; background-color:#edfeff\">\n",
    "    <p>\n",
    "        ➡️ Use <code>Potability</code> as target.  👍\n",
    "    </p>\n",
    "    <p>\n",
    "        ➡️ Using <code>MinMaxScaler()</code> to map values in range [0, 1] (Normalization)\n",
    "    </p>\n",
    "</div>"
   ]
  },
  {
   "cell_type": "code",
   "execution_count": null,
   "id": "b7bccdd3",
   "metadata": {
    "execution": {
     "iopub.execute_input": "2023-12-17T09:18:02.734431Z",
     "iopub.status.busy": "2023-12-17T09:18:02.733803Z",
     "iopub.status.idle": "2023-12-17T09:18:02.738732Z",
     "shell.execute_reply": "2023-12-17T09:18:02.738135Z"
    },
    "papermill": {
     "duration": 0.045598,
     "end_time": "2023-12-17T09:18:02.740402",
     "exception": false,
     "start_time": "2023-12-17T09:18:02.694804",
     "status": "completed"
    },
    "tags": []
   },
   "outputs": [],
   "source": [
    "# Define X, y\n",
    "X = data.drop(columns='Potability')\n",
    "y = data.Potability"
   ]
  },
  {
   "cell_type": "code",
   "execution_count": null,
   "id": "a2f1f2f1",
   "metadata": {
    "execution": {
     "iopub.execute_input": "2023-12-17T09:18:02.817899Z",
     "iopub.status.busy": "2023-12-17T09:18:02.817575Z",
     "iopub.status.idle": "2023-12-17T09:18:02.859242Z",
     "shell.execute_reply": "2023-12-17T09:18:02.858384Z"
    },
    "papermill": {
     "duration": 0.08287,
     "end_time": "2023-12-17T09:18:02.861073",
     "exception": false,
     "start_time": "2023-12-17T09:18:02.778203",
     "status": "completed"
    },
    "tags": []
   },
   "outputs": [],
   "source": [
    "scaler = MinMaxScaler(feature_range=(0, 1))\n",
    "df = pd.DataFrame(scaler.fit_transform(X), columns=X.columns)\n",
    "df.describe().loc[['min', 'mean', 'std', 'max']].T.style.background_gradient(axis=1)"
   ]
  },
  {
   "cell_type": "code",
   "execution_count": null,
   "id": "af16de99",
   "metadata": {
    "execution": {
     "iopub.execute_input": "2023-12-17T09:18:03.108055Z",
     "iopub.status.busy": "2023-12-17T09:18:03.107472Z",
     "iopub.status.idle": "2023-12-17T09:18:03.113675Z",
     "shell.execute_reply": "2023-12-17T09:18:03.112627Z"
    },
    "papermill": {
     "duration": 0.047761,
     "end_time": "2023-12-17T09:18:03.115802",
     "exception": false,
     "start_time": "2023-12-17T09:18:03.068041",
     "status": "completed"
    },
    "tags": []
   },
   "outputs": [],
   "source": [
    "X_train, X_test, y_train, y_test = train_test_split(X, y, random_state=0, test_size=0.2)"
   ]
  },
  {
   "cell_type": "code",
   "execution_count": null,
   "id": "fc015b0e",
   "metadata": {
    "execution": {
     "iopub.execute_input": "2023-12-17T09:18:03.199105Z",
     "iopub.status.busy": "2023-12-17T09:18:03.198440Z",
     "iopub.status.idle": "2023-12-17T09:18:03.206078Z",
     "shell.execute_reply": "2023-12-17T09:18:03.205383Z"
    },
    "papermill": {
     "duration": 0.050089,
     "end_time": "2023-12-17T09:18:03.207793",
     "exception": false,
     "start_time": "2023-12-17T09:18:03.157704",
     "status": "completed"
    },
    "tags": []
   },
   "outputs": [],
   "source": [
    "# A function to plot \"Confusion Matrix\" and \"Classification Report\"\n",
    "def plot_result(y_pred) :\n",
    "    '''\n",
    "    1) plot Confusion Matrix\n",
    "    2) plot Classification Report\n",
    "    '''\n",
    "    fig, ax = plt.subplots(1, 2, figsize=(15, 4))\n",
    "    fig.tight_layout()\n",
    "    #AX left - Confusion Matrix\n",
    "    cm = metrics.confusion_matrix(y_test, y_pred)\n",
    "    ax[0]=sns.heatmap(cm, cmap='Blues', annot=True, fmt='', linewidths=0.5, ax=ax[0])\n",
    "    ax[0].set_xlabel('Predicted labels', fontsize=18)\n",
    "    ax[0].set_ylabel('True labels', fontsize=18)\n",
    "    ax[0].set_title('Confusion Matrix', fontsize=25)\n",
    "    ax[0].xaxis.set_ticklabels(['0', '1'])\n",
    "    ax[0].yaxis.set_ticklabels(['0', '1'])\n",
    "    #\n",
    "    # AX Right - Classification Report\n",
    "    cr = pd.DataFrame(metrics.classification_report(y_test, y_pred, digits=3, output_dict=True)).T\n",
    "    cr.drop(columns='support', inplace=True)\n",
    "    ax[1] = sns.heatmap(cr, cmap='Blues', annot=True, fmt='0.3f', linewidths=0.5, ax=ax[1])\n",
    "    ax[1].xaxis.tick_top()\n",
    "    ax[1].set_title('Classification Report', fontsize=25)\n",
    "    plt.show()"
   ]
  },
  {
   "cell_type": "code",
   "execution_count": null,
   "id": "ebab716f",
   "metadata": {
    "execution": {
     "iopub.execute_input": "2023-12-17T09:18:03.367289Z",
     "iopub.status.busy": "2023-12-17T09:18:03.366890Z",
     "iopub.status.idle": "2023-12-17T09:18:12.513072Z",
     "shell.execute_reply": "2023-12-17T09:18:12.511875Z"
    },
    "papermill": {
     "duration": 9.189411,
     "end_time": "2023-12-17T09:18:12.515049",
     "exception": false,
     "start_time": "2023-12-17T09:18:03.325638",
     "status": "completed"
    },
    "tags": []
   },
   "outputs": [],
   "source": [
    "# a dictionary to define parameters to test in algorithm\n",
    "parameters = {\n",
    "    'C' : [0.001, 1, 1000],\n",
    "    'class_weight' : ['balanced', None],\n",
    "    'solver' : ['liblinear', 'sag'],\n",
    "    'penalty' : ['l2'],\n",
    "    'n_jobs' : [-1],\n",
    "}\n",
    "\n",
    "lr = LogisticRegression()\n",
    "lr_cv = GridSearchCV(estimator=lr, param_grid=parameters, cv=20).fit(X_train, y_train)\n",
    "\n",
    "print(colored('Tuned hyper parameters :\\n{}'.format(lr_cv.best_params_), 'blue'))"
   ]
  },
  {
   "cell_type": "code",
   "execution_count": null,
   "id": "fd8ab46d",
   "metadata": {
    "execution": {
     "iopub.execute_input": "2023-12-17T09:18:12.594117Z",
     "iopub.status.busy": "2023-12-17T09:18:12.593741Z",
     "iopub.status.idle": "2023-12-17T09:18:12.613232Z",
     "shell.execute_reply": "2023-12-17T09:18:12.612038Z"
    },
    "papermill": {
     "duration": 0.061869,
     "end_time": "2023-12-17T09:18:12.615629",
     "exception": false,
     "start_time": "2023-12-17T09:18:12.553760",
     "status": "completed"
    },
    "tags": []
   },
   "outputs": [],
   "source": [
    "lr = LogisticRegression(**lr_cv.best_params_).fit(X_train, y_train)\n",
    "\n",
    "y_pred_lr = lr.predict(X_test)\n",
    "\n",
    "lr_score = round(lr.score(X_test, y_test), 3)\n",
    "print(colored('LogisticRegression Score : {}'.format(lr_score), 'green'))"
   ]
  },
  {
   "cell_type": "code",
   "execution_count": null,
   "id": "90069060",
   "metadata": {
    "execution": {
     "iopub.execute_input": "2023-12-17T09:18:12.696351Z",
     "iopub.status.busy": "2023-12-17T09:18:12.695628Z",
     "iopub.status.idle": "2023-12-17T09:18:13.457796Z",
     "shell.execute_reply": "2023-12-17T09:18:13.456923Z"
    },
    "papermill": {
     "duration": 0.804297,
     "end_time": "2023-12-17T09:18:13.459753",
     "exception": false,
     "start_time": "2023-12-17T09:18:12.655456",
     "status": "completed"
    },
    "tags": []
   },
   "outputs": [],
   "source": [
    "plot_result(y_pred_lr)"
   ]
  },
  {
   "cell_type": "code",
   "execution_count": null,
   "id": "28d395a3",
   "metadata": {
    "execution": {
     "iopub.execute_input": "2023-12-17T09:18:13.625124Z",
     "iopub.status.busy": "2023-12-17T09:18:13.624140Z",
     "iopub.status.idle": "2023-12-17T09:20:08.229267Z",
     "shell.execute_reply": "2023-12-17T09:20:08.227945Z"
    },
    "papermill": {
     "duration": 114.688238,
     "end_time": "2023-12-17T09:20:08.270089",
     "exception": false,
     "start_time": "2023-12-17T09:18:13.581851",
     "status": "completed"
    },
    "tags": []
   },
   "outputs": [],
   "source": [
    "# a dictionary to define parameters to test in algorithm\n",
    "parameters = {\n",
    "    'n_estimators' : [1000],\n",
    "    'criterion' : ['log_loss'],\n",
    "    'max_features' : ['sqrt'],\n",
    "    'n_jobs' : [-1]\n",
    "}\n",
    "\n",
    "rf = RandomForestClassifier()\n",
    "rf_cv = GridSearchCV(estimator=rf, param_grid=parameters, cv=20).fit(X_train, y_train)\n",
    "print(colored('Tuned hyper parameters :\\n{}'.format(rf_cv.best_params_), 'blue'))"
   ]
  },
  {
   "cell_type": "code",
   "execution_count": null,
   "id": "00cd5415",
   "metadata": {
    "execution": {
     "iopub.execute_input": "2023-12-17T09:20:08.356384Z",
     "iopub.status.busy": "2023-12-17T09:20:08.355948Z",
     "iopub.status.idle": "2023-12-17T09:20:14.618465Z",
     "shell.execute_reply": "2023-12-17T09:20:14.616995Z"
    },
    "papermill": {
     "duration": 6.310531,
     "end_time": "2023-12-17T09:20:14.620584",
     "exception": false,
     "start_time": "2023-12-17T09:20:08.310053",
     "status": "completed"
    },
    "tags": []
   },
   "outputs": [],
   "source": [
    "rf = RandomForestClassifier(**rf_cv.best_params_).fit(X_train, y_train)\n",
    "\n",
    "y_pred_rf = rf.predict(X_test)\n",
    "\n",
    "rf_score = round(rf.score(X_test, y_test), 3)\n",
    "print(colored('RandomForestClassifier Score : {}'.format(rf_score), 'green'))"
   ]
  },
  {
   "cell_type": "code",
   "execution_count": null,
   "id": "8f0fa0b8",
   "metadata": {
    "execution": {
     "iopub.execute_input": "2023-12-17T09:20:14.705706Z",
     "iopub.status.busy": "2023-12-17T09:20:14.705372Z",
     "iopub.status.idle": "2023-12-17T09:20:15.451237Z",
     "shell.execute_reply": "2023-12-17T09:20:15.449814Z"
    },
    "papermill": {
     "duration": 0.791598,
     "end_time": "2023-12-17T09:20:15.453425",
     "exception": false,
     "start_time": "2023-12-17T09:20:14.661827",
     "status": "completed"
    },
    "tags": []
   },
   "outputs": [],
   "source": [
    "plot_result(y_pred_rf)"
   ]
  },
  {
   "cell_type": "code",
   "execution_count": null,
   "id": "64642e2b",
   "metadata": {
    "execution": {
     "iopub.execute_input": "2023-12-17T09:20:15.628318Z",
     "iopub.status.busy": "2023-12-17T09:20:15.626632Z",
     "iopub.status.idle": "2023-12-17T09:20:36.288646Z",
     "shell.execute_reply": "2023-12-17T09:20:36.287933Z"
    },
    "papermill": {
     "duration": 20.706792,
     "end_time": "2023-12-17T09:20:36.290734",
     "exception": false,
     "start_time": "2023-12-17T09:20:15.583942",
     "status": "completed"
    },
    "tags": []
   },
   "outputs": [],
   "source": [
    "# a dictionary to define parameters to test in algorithm\n",
    "parameters = {\n",
    "    'hidden_layer_sizes' : [500],\n",
    "    'activation' : ['logistic'],\n",
    "    'alpha' : [0.0001],\n",
    "    'batch_size' : [200],\n",
    "    \n",
    "}\n",
    "\n",
    "mlp = MLPClassifier()\n",
    "mlp_cv = GridSearchCV(estimator=mlp, param_grid=parameters, cv=20).fit(X_train, y_train)\n",
    "\n",
    "print(colored('Tuned hyper parameters :\\n{}'.format(mlp_cv.best_params_), 'blue'))"
   ]
  },
  {
   "cell_type": "code",
   "execution_count": null,
   "id": "a7dbee1d",
   "metadata": {
    "execution": {
     "iopub.execute_input": "2023-12-17T09:20:36.410717Z",
     "iopub.status.busy": "2023-12-17T09:20:36.410376Z",
     "iopub.status.idle": "2023-12-17T09:20:37.209555Z",
     "shell.execute_reply": "2023-12-17T09:20:37.208351Z"
    },
    "papermill": {
     "duration": 0.859058,
     "end_time": "2023-12-17T09:20:37.211623",
     "exception": false,
     "start_time": "2023-12-17T09:20:36.352565",
     "status": "completed"
    },
    "tags": []
   },
   "outputs": [],
   "source": [
    "mlp = MLPClassifier(**mlp_cv.best_params_).fit(X_train, y_train)\n",
    "\n",
    "y_pred_mlp = mlp.predict(X_test)\n",
    "\n",
    "mlp_score = round(mlp.score(X_test, y_test), 3)\n",
    "print(colored('MLPClassifier Score : {}'.format(mlp_score), 'green'))"
   ]
  },
  {
   "cell_type": "code",
   "execution_count": null,
   "id": "ca1ba031",
   "metadata": {
    "execution": {
     "iopub.execute_input": "2023-12-17T09:20:37.330203Z",
     "iopub.status.busy": "2023-12-17T09:20:37.329865Z",
     "iopub.status.idle": "2023-12-17T09:20:38.084970Z",
     "shell.execute_reply": "2023-12-17T09:20:38.083762Z"
    },
    "papermill": {
     "duration": 0.816123,
     "end_time": "2023-12-17T09:20:38.087347",
     "exception": false,
     "start_time": "2023-12-17T09:20:37.271224",
     "status": "completed"
    },
    "tags": []
   },
   "outputs": [],
   "source": [
    "plot_result(y_pred_mlp)"
   ]
  },
  {
   "cell_type": "code",
   "execution_count": null,
   "id": "bc628485",
   "metadata": {
    "execution": {
     "iopub.execute_input": "2023-12-17T09:20:38.258956Z",
     "iopub.status.busy": "2023-12-17T09:20:38.258608Z",
     "iopub.status.idle": "2023-12-17T09:21:07.948875Z",
     "shell.execute_reply": "2023-12-17T09:21:07.947171Z"
    },
    "papermill": {
     "duration": 29.735659,
     "end_time": "2023-12-17T09:21:07.951286",
     "exception": false,
     "start_time": "2023-12-17T09:20:38.215627",
     "status": "completed"
    },
    "tags": []
   },
   "outputs": [],
   "source": [
    "# a dictionary to define parameters to test in algorithm\n",
    "parameters = {\n",
    "    'n_neighbors' : list(np.arange(3, 50, 2)),\n",
    "    'weights': ['uniform', 'distance'],\n",
    "    'p' : [1, 2, 3, 4]\n",
    "}\n",
    "\n",
    "knn = KNeighborsClassifier()\n",
    "knn_cv = GridSearchCV(estimator=knn, cv=10, param_grid=parameters).fit(X_train, y_train)\n",
    "\n",
    "print(colored('Tuned hyper parameters :\\n{}'.format(knn_cv.best_params_), 'blue'))"
   ]
  },
  {
   "cell_type": "code",
   "execution_count": null,
   "id": "1e4dc069",
   "metadata": {
    "execution": {
     "iopub.execute_input": "2023-12-17T09:21:08.039833Z",
     "iopub.status.busy": "2023-12-17T09:21:08.039463Z",
     "iopub.status.idle": "2023-12-17T09:21:08.064098Z",
     "shell.execute_reply": "2023-12-17T09:21:08.063178Z"
    },
    "papermill": {
     "duration": 0.071062,
     "end_time": "2023-12-17T09:21:08.066108",
     "exception": false,
     "start_time": "2023-12-17T09:21:07.995046",
     "status": "completed"
    },
    "tags": []
   },
   "outputs": [],
   "source": [
    "knn = KNeighborsClassifier(**knn_cv.best_params_).fit(X_train, y_train)\n",
    "\n",
    "y_pred_knn = knn.predict(X_test)\n",
    "\n",
    "knn_score = round(knn.score(X_test, y_test), 3)\n",
    "print(colored('KNeighborsClassifier Score : {}'.format(knn_score), 'green'))"
   ]
  },
  {
   "cell_type": "code",
   "execution_count": null,
   "id": "f820cf02",
   "metadata": {
    "execution": {
     "iopub.execute_input": "2023-12-17T09:21:08.154635Z",
     "iopub.status.busy": "2023-12-17T09:21:08.153971Z",
     "iopub.status.idle": "2023-12-17T09:21:08.902785Z",
     "shell.execute_reply": "2023-12-17T09:21:08.901236Z"
    },
    "papermill": {
     "duration": 0.79662,
     "end_time": "2023-12-17T09:21:08.905281",
     "exception": false,
     "start_time": "2023-12-17T09:21:08.108661",
     "status": "completed"
    },
    "tags": []
   },
   "outputs": [],
   "source": [
    "plot_result(y_pred_knn)"
   ]
  },
  {
   "cell_type": "code",
   "execution_count": null,
   "id": "7928b816",
   "metadata": {
    "execution": {
     "iopub.execute_input": "2023-12-17T09:21:09.082915Z",
     "iopub.status.busy": "2023-12-17T09:21:09.081600Z",
     "iopub.status.idle": "2023-12-17T09:21:09.094498Z",
     "shell.execute_reply": "2023-12-17T09:21:09.093733Z"
    },
    "papermill": {
     "duration": 0.059443,
     "end_time": "2023-12-17T09:21:09.096300",
     "exception": false,
     "start_time": "2023-12-17T09:21:09.036857",
     "status": "completed"
    },
    "tags": []
   },
   "outputs": [],
   "source": [
    "result = pd.DataFrame({\n",
    "    'Algorithm' : ['RandomForestClassifier', 'LogisticRegression', 'KNeighborsClassifier', 'MLPClassifier'],\n",
    "    'Score' : [rf_score, lr_score,  knn_score, mlp_score]\n",
    "})\n",
    "\n",
    "\n",
    "result.style.background_gradient()"
   ]
  },
  {
   "cell_type": "code",
   "execution_count": null,
   "id": "e28fe94e",
   "metadata": {
    "execution": {
     "iopub.execute_input": "2023-12-17T09:21:09.185706Z",
     "iopub.status.busy": "2023-12-17T09:21:09.185053Z",
     "iopub.status.idle": "2023-12-17T09:21:09.427167Z",
     "shell.execute_reply": "2023-12-17T09:21:09.425815Z"
    },
    "papermill": {
     "duration": 0.289419,
     "end_time": "2023-12-17T09:21:09.429127",
     "exception": false,
     "start_time": "2023-12-17T09:21:09.139708",
     "status": "completed"
    },
    "tags": []
   },
   "outputs": [],
   "source": [
    "fig, ax = plt.subplots(1, 1, figsize=(15, 5))\n",
    "\n",
    "sns.barplot(x='Algorithm', y='Score', data=result)\n",
    "ax.bar_label(ax.containers[0], fmt='%.3f')\n",
    "ax.set_xticklabels(labels=result.Algorithm, rotation=300)\n",
    "plt.show()"
   ]
  },
  {
   "cell_type": "code",
   "execution_count": null,
   "id": "0e5c8da8",
   "metadata": {},
   "outputs": [],
   "source": [
    "# Quantum Approach (Classical SVC vs Quantum SVC)\n",
    "# 20% for training, same split as classical so can be used \n",
    "import time \n",
    "import qiskit\n",
    "import sklearn.decomposition\n",
    "from sklearn.discriminant_analysis import StandardScaler\n",
    "from sklearn.svm import SVC\n",
    "from sklearn.decomposition import PCA\n",
    "from qiskit.circuit.library import ZZFeatureMap\n",
    "from qiskit_machine_learning.kernels import FidelityQuantumKernel\n",
    "from qiskit_aer import Aer \n",
    "from qiskit.primitives import Sampler\n",
    "from qiskit_algorithms.utils import algorithm_globals\n",
    "from qiskit_algorithms.state_fidelities import ComputeUncompute\n",
    "\n",
    "algorithm_globals.random_seed = 12345 \n",
    "\n",
    "qiskit.__version__\n",
    "\n",
    "X = X_train\n",
    "Y = y_train \n",
    "\n",
    "sample_train, sample_test, label_train, label_test = train_test_split(X,Y, test_size = 0.1, random_state=1)\n",
    "print(\"Original Size:\")\n",
    "print(sample_train.shape,sample_test.shape)\n",
    "print()\n",
    "# Reduce dimensions\n",
    "n_dim = X_train.shape[1]\n",
    "pca = PCA(n_components=n_dim).fit(sample_train)\n",
    "sample_train = pca.transform(sample_train)\n",
    "sample_test = pca.transform(sample_test)\n",
    "\n",
    "# Normalise\n",
    "std_scale = StandardScaler().fit(sample_train)\n",
    "sample_train = std_scale.transform(sample_train)\n",
    "sample_test = std_scale.transform(sample_test)\n",
    "\n",
    "# Scale\n",
    "samples = np.append(sample_train, sample_test, axis=0)\n",
    "minmax_scale = MinMaxScaler((-1, 1)).fit(samples)\n",
    "sample_train = minmax_scale.transform(sample_train)\n",
    "sample_test = minmax_scale.transform(sample_test)\n",
    "\n",
    "print(\"After Cut:\")\n",
    "# Select\n",
    "train_size = 1000\n",
    "# train_size = 100\n",
    "sample_train = sample_train[:train_size]\n",
    "label_train = label_train[:train_size]\n",
    "\n",
    "test_size = 336\n",
    "# test_size = 30\n",
    "sample_test = sample_test[:test_size]\n",
    "label_test = label_test[:test_size]\n",
    "print(sample_train.shape,sample_test.shape)"
   ]
  },
  {
   "cell_type": "code",
   "execution_count": null,
   "id": "7a9e9316",
   "metadata": {},
   "outputs": [],
   "source": [
    "zz_map = ZZFeatureMap(feature_dimension=len(sample_train[0]), reps=2, entanglement='linear')\n",
    "sampler = Sampler()\n",
    "fidelity = ComputeUncompute(sampler=sampler)\n",
    "zz_kernel = FidelityQuantumKernel(fidelity=fidelity, feature_map=zz_map)"
   ]
  },
  {
   "cell_type": "code",
   "execution_count": null,
   "id": "e714bac3",
   "metadata": {},
   "outputs": [],
   "source": [
    "from qiskit_machine_learning.algorithms import QSVC\n",
    "\n",
    "qsvc = QSVC(quantum_kernel=zz_kernel)\n",
    "\n",
    "qsvc.fit(sample_train, label_train)\n",
    "\n",
    "qsvc_score = qsvc.score(sample_test, label_test)\n",
    "\n",
    "print(f\"QSVC classification test score: {qsvc_score}\")"
   ]
  },
  {
   "cell_type": "code",
   "execution_count": null,
   "id": "9240682c",
   "metadata": {},
   "outputs": [],
   "source": [
    "# zz_circuit = zz_kernel.construct_circuit(sample_train[0], sample_train[1])\n",
    "start = time.perf_counter()\n",
    "matrix_train = zz_kernel.evaluate(x_vec=sample_train)\n",
    "matrix_test = zz_kernel.evaluate(x_vec=sample_test, y_vec=sample_train)\n",
    "end = time.perf_counter()\n",
    "print(matrix_train.shape,matrix_test.shape)\n",
    "\n",
    "fig, axs = plt.subplots(1, 2, figsize=(10, 5))\n",
    "axs[0].imshow(np.asmatrix(np.log(matrix_train)),\n",
    "              interpolation='nearest', origin='upper', cmap='Blues')\n",
    "axs[0].set_title(\"training kernel matrix\")\n",
    "axs[1].imshow(np.asmatrix(matrix_test),\n",
    "              interpolation='nearest', origin='upper', cmap='Reds')\n",
    "axs[1].set_title(\"testing kernel matrix\")\n",
    "plt.show()\n",
    "\n",
    "print(round(end-start,2),' (s)')"
   ]
  },
  {
   "cell_type": "code",
   "execution_count": null,
   "id": "a4da4e64",
   "metadata": {},
   "outputs": [],
   "source": [
    "zzpc_svc = SVC(kernel='precomputed')\n",
    "zzpc_svc.fit(matrix_train, label_train)\n",
    "zzpc_score = zzpc_svc.score(matrix_test, label_test)\n",
    "\n",
    "print(f'Precomputed kernel classification test score: {zzpc_score}')"
   ]
  },
  {
   "cell_type": "code",
   "execution_count": null,
   "id": "538d96e4",
   "metadata": {},
   "outputs": [],
   "source": [
    "from sklearn.metrics import accuracy_score, f1_score, recall_score, precision_score, confusion_matrix\n",
    "from sklearn.metrics import ConfusionMatrixDisplay\n",
    "import matplotlib.pyplot as plt\n",
    "\n",
    "# Obtain the predicted labels for the val data\n",
    "predicted_labels = zzpc_svc.predict(matrix_test)\n",
    "\n",
    "# Calculate the accuracy score using the true labels and the predicted labels\n",
    "accuracy = accuracy_score(label_test, predicted_labels)\n",
    "\n",
    "# Calculate the F1 score using the true labels and the predicted labels\n",
    "f1 = f1_score(label_test, predicted_labels, average='weighted')\n",
    "\n",
    "# Calculate the sensitivity and specificity scores using the true labels and the predicted labels\n",
    "sensitivity = recall_score(label_test, predicted_labels, average='weighted')\n",
    "specificity = precision_score(label_test, predicted_labels, average='weighted', zero_division=1)\n",
    "\n",
    "# Generate the confusion matrix using the true labels and the predicted labels\n",
    "cm = confusion_matrix(label_test, predicted_labels, labels=[0,1])\n",
    "\n",
    "# Define the dictionary to map integers to spectral types\n",
    "sp_type_dict = {0: 'O', 1: '1'}\n",
    "\n",
    "# Compute the confusion matrix\n",
    "matrix = confusion_matrix(label_test, predicted_labels, labels=[0, 1])\n",
    "\n",
    "# Create the ConfusionMatrixDisplay object with updated labels\n",
    "cf = ConfusionMatrixDisplay(matrix, display_labels=[sp_type_dict[i] for i in range(2)])\n",
    "\n",
    "# Plot the confusion matrix\n",
    "cf.plot(cmap=\"BuGn\")\n",
    "plt.show()\n",
    "\n",
    "# Print the accuracy, F1 score, sensitivity, specificity, confusion matrix, and precomputed kernel classification val score\n",
    "print(f'Accuracy: {round(accuracy,3)}')\n",
    "print(f'F1 score: {round(f1,3)}')\n",
    "print(f'Sensitivity: {round(sensitivity,3)}')\n",
    "print(f'Specificity: {round(specificity,3)}')\n",
    "print(f'Confusion matrix:\\n{cm}')"
   ]
  },
  {
   "cell_type": "code",
   "execution_count": null,
   "id": "11b8b60e",
   "metadata": {},
   "outputs": [],
   "source": [
    "import matplotlib.pyplot as plt\n",
    "from sklearn.metrics import confusion_matrix, accuracy_score, f1_score\n",
    "\n",
    "classical_kernels = ['linear', 'poly', 'rbf', 'sigmoid']\n",
    "\n",
    "best_kernel = None\n",
    "best_score = 0\n",
    "\n",
    "for kernel in classical_kernels:\n",
    "    classical_svc = SVC(kernel=kernel)\n",
    "    classical_svc.fit(sample_train, label_train)\n",
    "    classical_score = classical_svc.score(sample_test, label_test)\n",
    "\n",
    "    print('%s kernel classification test score:  %0.2f' % (kernel, classical_score))\n",
    "    \n",
    "    if classical_score > best_score:\n",
    "        best_kernel = kernel\n",
    "        best_score = classical_score\n",
    "\n",
    "# Train the SVC model with the best kernel.\n",
    "best_svc = SVC(kernel=best_kernel)\n",
    "best_svc.fit(sample_train, label_train)\n",
    "\n",
    "# Test the model on the test data.\n",
    "y_pred = best_svc.predict(sample_test)\n",
    "\n",
    "# Calculate the confusion matrix and performance metrics.\n",
    "\n",
    "accuracy = accuracy_score(label_test, y_pred)\n",
    "f1 = f1_score(label_test, y_pred, average='weighted')\n",
    "\n",
    "# Calculate the sensitivity and specificity scores using the true labels and the predicted labels\n",
    "sensitivity = recall_score(label_test, y_pred, average='weighted')\n",
    "specificity = precision_score(label_test, y_pred, average='weighted', zero_division=1)\n",
    "\n",
    "print()\n",
    "\n",
    "# Output the results.\n",
    "print(f'Accuracy: {round(accuracy,3)}')\n",
    "print(f'F1 score: {round(f1,3)}')\n",
    "print(f'Sensitivity: {round(sensitivity,3)}')\n",
    "print(f'Specificity: {round(specificity,3)}')\n",
    "print(f'Confusion matrix:\\n{cm}')\n",
    "\n",
    "# Generate the confusion matrix using the true labels and the predicted labels\n",
    "cm = confusion_matrix(label_test, y_pred, labels=[0,1])\n",
    "\n",
    "# Define the dictionary to map integers to spectral types\n",
    "sp_type_dict = {0: 'O', 1: '1'}\n",
    "\n",
    "# Compute the confusion matrix\n",
    "matrix = confusion_matrix(label_test, y_pred, labels=[0, 1])\n",
    "\n",
    "# Create the ConfusionMatrixDisplay object with updated labels\n",
    "cf = ConfusionMatrixDisplay(matrix, display_labels=[sp_type_dict[i] for i in range(2)])\n",
    "\n",
    "# Plot the confusion matrix\n",
    "cf.plot(cmap='BuGn')\n",
    "plt.show()"
   ]
  }
 ],
 "metadata": {
  "kaggle": {
   "accelerator": "none",
   "dataSources": [
    {
     "datasetId": 1292407,
     "sourceId": 2157486,
     "sourceType": "datasetVersion"
    }
   ],
   "dockerImageVersionId": 30626,
   "isGpuEnabled": false,
   "isInternetEnabled": true,
   "language": "python",
   "sourceType": "notebook"
  },
  "kernelspec": {
   "display_name": "Python 3",
   "language": "python",
   "name": "python3"
  },
  "language_info": {
   "codemirror_mode": {
    "name": "ipython",
    "version": 3
   },
   "file_extension": ".py",
   "mimetype": "text/x-python",
   "name": "python",
   "nbconvert_exporter": "python",
   "pygments_lexer": "ipython3",
   "version": "3.9.13"
  },
  "papermill": {
   "default_parameters": {},
   "duration": 217.39592,
   "end_time": "2023-12-17T09:21:10.654481",
   "environment_variables": {},
   "exception": null,
   "input_path": "__notebook__.ipynb",
   "output_path": "__notebook__.ipynb",
   "parameters": {},
   "start_time": "2023-12-17T09:17:33.258561",
   "version": "2.4.0"
  }
 },
 "nbformat": 4,
 "nbformat_minor": 5
}
